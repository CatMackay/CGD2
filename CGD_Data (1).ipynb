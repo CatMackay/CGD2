{
  "nbformat": 4,
  "nbformat_minor": 0,
  "metadata": {
    "colab": {
      "name": "CGD Data.ipynb",
      "provenance": [],
      "collapsed_sections": []
    },
    "kernelspec": {
      "name": "python3",
      "display_name": "Python 3"
    }
  },
  "cells": [
    {
      "cell_type": "code",
      "metadata": {
        "id": "4iOQItpMaTW9"
      },
      "source": [
        "# INSTRUCTIONS\n",
        "# SELECT RUN ALL FROM RUNTIME MENU ABOVE\n",
        "# OR RUN CELLS INDIVIDUALLY\n",
        "# DOWNLOAD THE RESULTING CSV FILES FROM THE PANE ON THE LEFT"
      ],
      "execution_count": null,
      "outputs": []
    },
    {
      "cell_type": "markdown",
      "metadata": {
        "id": "d1Izm_PylVIL"
      },
      "source": [
        "As of February 2021, these are the columns available in the OWID data. Currently we are only retaining the 'cols' list below\n",
        "\n",
        "'iso_code', 'continent', 'location', 'date', 'population', \n",
        "'total_cases', 'new_cases', 'new_cases_smoothed', \n",
        "'total_deaths', 'new_deaths', 'new_deaths_smoothed', \n",
        "'total_cases_per_million', 'new_cases_per_million', 'new_cases_smoothed_per_million',\n",
        "'total_deaths_per_million', 'new_deaths_per_million',\n",
        "'new_deaths_smoothed_per_million', \n",
        "'reproduction_rate', 'icu_patients', 'icu_patients_per_million', 'hosp_patients', 'hosp_patients_per_million', \n",
        "'weekly_icu_admissions', 'weekly_icu_admissions_per_million', 'weekly_hosp_admissions', 'weekly_hosp_admissions_per_million', \n",
        "'new_tests', 'total_tests','total_tests_per_thousand', 'new_tests_per_thousand',\n",
        "'new_tests_smoothed', 'new_tests_smoothed_per_thousand',\n",
        "'positive_rate', 'tests_per_case', 'tests_units', \n",
        "'total_vaccinations', 'people_vaccinated', 'people_fully_vaccinated', 'new_vaccinations', 'new_vaccinations_smoothed', 'total_vaccinations_per_hundred', 'people_vaccinated_per_hundred', 'people_fully_vaccinated_per_hundred', 'new_vaccinations_smoothed_per_million', 'stringency_index',\n",
        "'population', 'population_density', \n",
        "'median_age', 'aged_65_older', 'aged_70_older', \n",
        "'gdp_per_capita', 'extreme_poverty',\n",
        "'cardiovasc_death_rate', 'diabetes_prevalence', \n",
        "'female_smokers', 'male_smokers', \n",
        "'handwashing_facilities', 'hospital_beds_per_thousand',\n",
        "'life_expectancy', 'human_development_index'\n"
      ]
    },
    {
      "cell_type": "code",
      "metadata": {
        "id": "8Dvfoyl1s-MI"
      },
      "source": [
        "# STEP 1: RUN CELL SET UP THE LISTS USED\n",
        "# current comparator set.  Add and remove countries from this list as required\n",
        "countries = [\"Afghanistan\",\"Albania\",\"Algeria\",\"Andorra\",\"Angola\",\"Anguilla\",\"Antigua and Barbuda\",\"Argentina\",\"Armenia\",\"Aruba\",\"Australia\",\"Austria\",\"Azerbaijan\",\"Bahamas\",\"Bahrain\",\"Bangladesh\",\"Barbados\",\"Belarus\",\"Belgium\",\"Belize\",\"Benin\",\"Bermuda\",\"Bhutan\",\"Bolivia\",\"Bonaire Sint Eustatius and Saba\",\"Bosnia and Herzegovina\",\"Botswana\",\"Brazil\",\"Brunei\",\"Bulgaria\",\"Burkina Faso\",\"Burundi\",\"Cambodia\",\"Cameroon\",\"Canada\",\"Cape Verde\",\"Cayman Islands\",\"Central African Republic\",\"Chad\",\"Chile\",\"China\",\"Colombia\",\"Comoros\",\"Congo\",\"Costa Rica\",\"Cote d'Ivoire\",\"Croatia\",\"Cuba\",\"Curacao\",\"Cyprus\",\"Czechia\",\"Democratic Republic of Congo\",\"Denmark\",\"Djibouti\",\"Dominica\",\"Dominican Republic\",\"Ecuador\",\"Egypt\",\"El Salvador\",\"Equatorial Guinea\",\"Eritrea\",\"Estonia\",\"Eswatini\",\"Ethiopia\",\"Faeroe Islands\",\"Falkland Islands\",\"Fiji\",\"Finland\",\"France\",\"French Polynesia\",\"Gabon\",\"Gambia\",\"Georgia\",\"Germany\",\"Ghana\",\"Gibraltar\",\"Greece\",\"Greenland\",\"Grenada\",\"Guatemala\",\"Guernsey\",\"Guinea\",\"Guinea-Bissau\",\"Guyana\",\"Haiti\",\"Honduras\",\"Hong Kong\",\"Hungary\",\"Iceland\",\"India\",\"Indonesia\",\"Iran\",\"Iraq\",\"Ireland\",\"Isle of Man\",\"Israel\",\"Italy\",\"Jamaica\",\"Japan\",\"Jersey\",\"Jordan\",\"Kazakhstan\",\"Kenya\",\"Kosovo\",\"Kuwait\",\"Kyrgyzstan\",\"Laos\",\"Latvia\",\"Lebanon\",\"Lesotho\",\"Liberia\",\"Libya\",\"Liechtenstein\",\"Lithuania\",\"Luxembourg\",\"Macao\",\"Madagascar\",\"Malawi\",\"Malaysia\",\"Maldives\",\"Mali\",\"Malta\",\"Marshall Islands\",\"Mauritania\",\"Mauritius\",\"Mexico\",\"Moldova\",\"Monaco\",\"Mongolia\",\"Montenegro\",\"Montserrat\",\"Morocco\",\"Mozambique\",\"Myanmar\",\"Namibia\",\"Nauru\",\"Nepal\",\"Netherlands\",\"New Caledonia\",\"New Zealand\",\"Nicaragua\",\"Niger\",\"Nigeria\",\"North Macedonia\",\"Northern Cyprus\",\"Norway\",\"Oman\",\"Pakistan\",\"Palestine\",\"Panama\",\"Papua New Guinea\",\"Paraguay\",\"Peru\",\"Philippines\",\"Poland\",\"Portugal\",\"Qatar\",\"Romania\",\"Russia\",\"Rwanda\",\"Saint Helena\",\"Saint Kitts and Nevis\",\"Saint Lucia\",\"Saint Vincent and the Grenadines\",\"Samoa\",\"San Marino\",\"Sao Tome and Principe\",\"Saudi Arabia\",\"Senegal\",\"Serbia\",\"Seychelles\",\"Sierra Leone\",\"Singapore\",\"Sint Maarten (Dutch part)\",\"Slovakia\",\"Slovenia\",\"Solomon Islands\",\"Somalia\",\"South Africa\",\"South Korea\",\"South Sudan\",\"Spain\",\"Sri Lanka\",\"Sudan\",\"Suriname\",\"Sweden\",\"Switzerland\",\"Syria\",\"Taiwan\",\"Tajikistan\",\"Tanzania\",\"Thailand\",\"Togo\",\"Tonga\",\"Trinidad and Tobago\",\"Tunisia\",\"Turkey\",\"Turkmenistan\",\"Turks and Caicos Islands\",\"Tuvalu\",\"Uganda\",\"Ukraine\",\"United Arab Emirates\",\"United Kingdom\",\"United States\",\"Uruguay\",\"Uzbekistan\",\"Vanuatu\",\"Venezuela\",\"Vietnam\",\"Wallis and Futuna\",\"Yemen\",\"Zambia\",\"Zimbabwe\"]\n",
        "           \n",
        "#Run owid_df.columns after running this to get current list of columns\n",
        "cols = ['iso_code', 'location', 'date', 'population'\n",
        "        'new_cases_smoothed_per_million',\n",
        "        'new_deaths_smoothed_per_million',\n",
        "        'stringency_index',\n",
        "        'people_vaccinated_per_hundred',\n",
        "        'people_fully_vaccinated_per_hundred',\n",
        "        'new_vaccinations_smoothed_per_million']\n",
        "\n",
        "#Order of output csv. Reorder as required.  \n",
        "col_order = ['ISO', 'country_name', 'DATE', 'population', \n",
        "             'new_cases_smoothed_per_million',\n",
        "             'new_cases_smoothed_per_million_perc_change_7_days_prior',\n",
        "             'new_deaths_smoothed_per_million',\n",
        "             'new_deaths_smoothed_per_million_perc_change_7_days_prior',\n",
        "             'stringency_index', \n",
        "             'stringency_index_diff_from_1_week_prior', \n",
        "             'stringency_index_diff_from_month_prior',\n",
        "             'stringency_index_filled', \n",
        "             'people_vaccinated_per_hundred',\n",
        "             'people_fully_vaccinated_per_hundred',\n",
        "             'new_vaccinations_smoothed_per_million',\n",
        "             'new_vaccinations_smoothed_per_million_perc_change_7_days_prior',\n",
        "             'people_vaccinated_per_hundred_filled',\n",
        "             'people_fully_vaccinated_per_hundred_filled',\n",
        "             'new_vaccinations_smoothed_per_million_filled',\n",
        "             'new_vaccinations_smoothed_per_million_perc_change_7_days_prior_filled']"
      ],
      "execution_count": null,
      "outputs": []
    },
    {
      "cell_type": "code",
      "metadata": {
        "id": "MCYpQ27q_MT8"
      },
      "source": [
        "#STEP2. RUN THIS CELL TO READ IN LATEST OWID DATA\n",
        "import pandas as pd\n",
        "import numpy as np\n",
        "from datetime import datetime\n",
        "\n",
        "#read in the latest OWID data\n",
        "owid_url = \"https://covid.ourworldindata.org/data/owid-covid-data.csv\"\n",
        "owid_df = pd.read_csv(owid_url, usecols=cols)\n",
        "#comment out the line above and run the line below to read in all columns instead\n",
        "#owid_df = pd.read_csv(owid_url)"
      ],
      "execution_count": null,
      "outputs": []
    },
    {
      "cell_type": "code",
      "metadata": {
        "id": "kU4sHaBsGULu"
      },
      "source": [
        "#STEP 3. RUN THIS CELL TO RENAME COLUMNS, FORMAT DATE, KEEP REQUIRED COUNTRIES ONLY\n",
        "#rename columns\n",
        "owid_df = owid_df.rename(columns={\"location\": \"country_name\", \"date\": \"DATE\", \"iso_code\":\"ISO\"})    \n",
        "\n",
        "#change the date column to specified datetime format\n",
        "owid_df['DATE'] = pd.to_datetime(owid_df['DATE'],format='%Y-%m-%d')\n",
        "\n",
        "#Remove countries not in comparator set\n",
        "owid_df=owid_df[owid_df['country_name'].isin(countries)]\n",
        "owid_df.sort_values(by=['country_name','DATE'],inplace=True,ignore_index=True)"
      ],
      "execution_count": null,
      "outputs": []
    },
    {
      "cell_type": "code",
      "metadata": {
        "id": "rwdTOXIZjd44"
      },
      "source": [
        "#% change columns\n",
        "owid_df['new_cases_smoothed_per_million_perc_change_7_days_prior'] = owid_df.groupby('country_name')['new_cases_smoothed_per_million'].apply(lambda x: (x-x.shift(7))/x.shift(7)) \n",
        "owid_df['new_deaths_smoothed_per_million_perc_change_7_days_prior'] = owid_df.groupby('country_name')['new_deaths_smoothed_per_million'].apply(lambda x: (x-x.shift(7))/x.shift(7)) \n",
        "owid_df['new_vaccinations_smoothed_per_million_perc_change_7_days_prior'] = owid_df.groupby('country_name')['new_vaccinations_smoothed_per_million'].apply(lambda x: (x-x.shift(7))/x.shift(7)) \n"
      ],
      "execution_count": null,
      "outputs": []
    },
    {
      "cell_type": "code",
      "metadata": {
        "id": "t7QXE4_2j6BE"
      },
      "source": [
        "#copy columns down\n",
        "owid_df['stringency_index_filled'] = owid_df.groupby('country_name')['stringency_index'].ffill()\n",
        "owid_df['people_vaccinated_per_hundred_filled'] = owid_df.groupby('country_name')['people_vaccinated_per_hundred'].ffill()\n",
        "owid_df['people_fully_vaccinated_per_hundred_filled'] = owid_df.groupby('country_name')['people_fully_vaccinated_per_hundred'].ffill()\n",
        "owid_df['new_vaccinations_smoothed_per_million_filled'] = owid_df.groupby('country_name')['new_vaccinations_smoothed_per_million'].ffill()\n",
        "owid_df['new_vaccinations_smoothed_per_million_perc_change_7_days_prior_filled'] = owid_df.groupby('country_name')['new_vaccinations_smoothed_per_million_perc_change_7_days_prior'].ffill()\n",
        "\n",
        "#stringency index columns\n",
        "owid_df['stringency_index_7_days_prior'] =  owid_df.groupby('country_name')['stringency_index_filled'].shift(7)\n",
        "owid_df['stringency_index_14_days_prior'] = owid_df.groupby('country_name')['stringency_index_filled'].shift(14)\n",
        "owid_df['stringency_index_21_days_prior'] = owid_df.groupby('country_name')['stringency_index_filled'].shift(21)\n",
        "owid_df['stringency_index_28_days_prior'] = owid_df.groupby('country_name')['stringency_index_filled'].shift(28)\n",
        "owid_df['stringency_index_30_days_prior'] = owid_df.groupby('country_name')['stringency_index_filled'].shift(30)\n",
        "owid_df['stringency_index_31_days_prior'] = owid_df.groupby('country_name')['stringency_index_filled'].shift(31)"
      ],
      "execution_count": null,
      "outputs": []
    },
    {
      "cell_type": "code",
      "metadata": {
        "id": "KtaIQe9C8VeJ"
      },
      "source": [
        "# code to deal with month calculation\n",
        "owid_df['month_days'] = np.select(\n",
        "    [\n",
        "    owid_df['DATE'].dt.month == 1, owid_df['DATE'].dt.month == 2, owid_df['DATE'].dt.month == 3,\n",
        "    owid_df['DATE'].dt.month == 4, owid_df['DATE'].dt.month == 5, owid_df['DATE'].dt.month == 6,\n",
        "    owid_df['DATE'].dt.month == 7, owid_df['DATE'].dt.month == 8, owid_df['DATE'].dt.month == 9,\n",
        "    owid_df['DATE'].dt.month == 10,owid_df['DATE'].dt.month == 11,owid_df['DATE'].dt.month == 12\n",
        "    ],\n",
        "    [31,28,31,30,31,30,31,31,30,31,30,31]\n",
        ")\n",
        "\n",
        "owid_df['stringency_index_month_prior'] = ''\n",
        "owid_df.loc[owid_df['month_days']==31,'stringency_index_month_prior']=owid_df['stringency_index_31_days_prior']\n",
        "owid_df.loc[owid_df['month_days']==30,'stringency_index_month_prior']=owid_df['stringency_index_30_days_prior']\n",
        "owid_df.loc[owid_df['month_days']==28,'stringency_index_month_prior']=owid_df['stringency_index_28_days_prior']\n",
        "\n",
        "#tidy up after month prior calculation\n",
        "owid_df = owid_df.drop(columns=['stringency_index_28_days_prior', 'stringency_index_30_days_prior','stringency_index_31_days_prior', 'month_days'])"
      ],
      "execution_count": null,
      "outputs": []
    },
    {
      "cell_type": "code",
      "metadata": {
        "id": "up1FlIWukPRH"
      },
      "source": [
        "#Diff from max\n",
        "result=owid_df.groupby('country_name').agg({'stringency_index': np.max})\n",
        "#print(result)\n",
        "owid_df = owid_df.join(result, on='country_name',lsuffix='',rsuffix='_max')\n",
        "\n",
        "owid_df['stringency_index_filled_diff_from_max'] =  owid_df['stringency_index_max'] - owid_df['stringency_index_filled'] \n",
        "owid_df = owid_df.rename(columns={\"stringency_index_max\": \"max_stringency_index\"})    \n",
        "\n",
        "owid_df['stringency_index_diff_from_1_week_prior'] = owid_df['stringency_index_filled'] - owid_df['stringency_index_7_days_prior'] \n",
        "owid_df['stringency_index_diff_from_month_prior'] = owid_df['stringency_index_filled'] - owid_df['stringency_index_month_prior'] "
      ],
      "execution_count": null,
      "outputs": []
    },
    {
      "cell_type": "code",
      "metadata": {
        "id": "ucyWAFy-Vh0t"
      },
      "source": [
        "# STEP 5. RUN THIS CELL TO REORDER THE COLUMNS ACCORDING TO ORDER SET AT TOP OF SCRIPT\n",
        "owid_df = owid_df[col_order]"
      ],
      "execution_count": null,
      "outputs": []
    },
    {
      "cell_type": "code",
      "metadata": {
        "colab": {
          "base_uri": "https://localhost:8080/"
        },
        "id": "uuB-XjDvcvBa",
        "outputId": "d0f4b2f4-8a70-4790-a0da-ae77a35d793b"
      },
      "source": [
        "# STEP 6. RUN THIS CELL TO WRITE OUT CSV FILE\n",
        "filename=datetime.today().strftime('%Y-%m-%d_%H%M')+ '_owid_cgd.csv'\n",
        "owid_df.to_csv(filename)\n",
        "print(filename, \"created. Download from left pane\")"
      ],
      "execution_count": null,
      "outputs": [
        {
          "output_type": "stream",
          "text": [
            "2021-05-26_1524_owid_cgd.csv created. Download from left pane\n"
          ],
          "name": "stdout"
        }
      ]
    },
    {
      "cell_type": "code",
      "metadata": {
        "id": "iHQNkB-HAzqo"
      },
      "source": [
        "#THE FOLLOWING IS CODE TO BRING IN BLAVATNIK DATA\n",
        "#NOT CURRENTLY USING BECAUSE USING COLUMN DIRECT FROM OWID"
      ],
      "execution_count": null,
      "outputs": []
    },
    {
      "cell_type": "markdown",
      "metadata": {
        "id": "flfoi7_Z2MDv"
      },
      "source": [
        "As of February 2021, these are the columns available in the Blavatnik data\n",
        "\n",
        "'CountryName', 'CountryCode', 'RegionName', 'RegionCode',\n",
        "'Jurisdiction', 'Date', 'C1_School closing', 'C1_Flag',\n",
        "'C2_Workplace closing', 'C2_Flag', 'C3_Cancel public events', 'C3_Flag',\n",
        "'C4_Restrictions on gatherings', 'C4_Flag', 'C5_Close public transport',\n",
        "'C5_Flag', 'C6_Stay at home requirements', 'C6_Flag',\n",
        "'C7_Restrictions on internal movement', 'C7_Flag',\n",
        "'C8_International travel controls', 'E1_Income support', 'E1_Flag',\n",
        "'E2_Debt/contract relief', 'E3_Fiscal measures',\n",
        "'E4_International support', 'H1_Public information campaigns',\n",
        "'H1_Flag', 'H2_Testing policy', 'H3_Contact tracing',\n",
        "'H4_Emergency investment in healthcare', 'H5_Investment in vaccines',\n",
        "'H6_Facial Coverings', 'H6_Flag', 'H7_Vaccination policy', 'H7_Flag',\n",
        "'M1_Wildcard', 'ConfirmedCases', 'ConfirmedDeaths', 'StringencyIndex',\n",
        "'StringencyIndexForDisplay', 'StringencyLegacyIndex',\n",
        "'StringencyLegacyIndexForDisplay', 'GovernmentResponseIndex',\n",
        "'GovernmentResponseIndexForDisplay', 'ContainmentHealthIndex',\n",
        "'ContainmentHealthIndexForDisplay', 'EconomicSupportIndex',\n",
        "'EconomicSupportIndexForDisplay'],"
      ]
    },
    {
      "cell_type": "code",
      "metadata": {
        "id": "SmeKJwHo25uC"
      },
      "source": [
        "#the columns we want to keep\n",
        "#cols_bk = ['CountryName', 'CountryCode', 'RegionName', 'RegionCode','Date', 'StringencyIndex', 'StringencyIndexForDisplay']\n",
        "\n",
        "#oxford_blavatnik_url = 'https://github.com/OxCGRT/covid-policy-tracker/raw/master/data/OxCGRT_latest.csv'\n",
        "#df_ox_bl = pd.read_csv(oxford_blavatnik_url, usecols=cols_bk)\n",
        "\n",
        "#make the column names the same as OWID\n",
        "###df_ox_bl = df_ox_bl.rename(columns={\"CountryName\":\"country_name\",\"Date\": \"DATE\", \n",
        "#                                   \"CountryCode\":\"ISO\",'StringencyIndex':'stringency_index', 'StringencyIndexForDisplay':'stringency_index_filled'})  \n",
        "\n",
        "# only need national level not regional\n",
        "#df_ox_bl = df_ox_bl[df_ox_bl.RegionCode.isna()]\n",
        "\n",
        "#convert DATE columns to a datetime object \n",
        "#from datetime import datetime\n",
        "#df_ox_bl['DATE'] = pd.to_datetime(df_ox_bl['DATE'],format='%Y%m%d')\n",
        "\n",
        "##df_ox_bl.drop(['RegionName','RegionCode'], axis=1,inplace=True)\n",
        "\n",
        "#Remove countries not in comparator set\n",
        "#df_ox_bl=df_ox_bl[df_ox_bl['country_name'].isin(countries)]\n",
        "#df_ox_bl.sort_values(by=['country_name','DATE'],inplace=True,ignore_index=True)"
      ],
      "execution_count": null,
      "outputs": []
    },
    {
      "cell_type": "code",
      "metadata": {
        "id": "vIUsIlB46b_4"
      },
      "source": [
        "#calculate stringency changes\n",
        "#df_ox_bl['stringency_index_diff_from_max'] ="
      ],
      "execution_count": null,
      "outputs": []
    },
    {
      "cell_type": "code",
      "metadata": {
        "id": "gV51akgn7YIV",
        "colab": {
          "base_uri": "https://localhost:8080/"
        },
        "outputId": "ebfdb05b-278c-482e-947f-c4530e3df2be"
      },
      "source": [
        ",#df_ox_bl['stringency_index_diff_from_2wks'] = df_ox_bl['stringency_index_filled'] - df_ox_bl['stringency_index_filled'].shift(14)"
      ],
      "execution_count": null,
      "outputs": [
        {
          "output_type": "execute_result",
          "data": {
            "text/plain": [
              "(\"#df_ox_bl['stringency_index_diff_from_2wks']\",\n",
              " '=',\n",
              " \"df_ox_bl['stringency_index_filled']\",\n",
              " '-',\n",
              " \"df_ox_bl['stringency_index_filled'].shift(14)\")"
            ]
          },
          "metadata": {
            "tags": []
          },
          "execution_count": 246
        }
      ]
    },
    {
      "cell_type": "code",
      "metadata": {
        "id": "KeSt_06_7cqj"
      },
      "source": [
        "#df_ox_bl['stringency_index_diff_from_1month'] ="
      ],
      "execution_count": null,
      "outputs": []
    },
    {
      "cell_type": "code",
      "metadata": {
        "id": "M9r3PEhz35ac"
      },
      "source": [
        "#df_ox_bl.to_csv('blav.csv')"
      ],
      "execution_count": null,
      "outputs": []
    },
    {
      "cell_type": "code",
      "metadata": {
        "id": "OXhZ3Lesjl6W"
      },
      "source": [
        "#join the datasets on date and country code\n",
        "#df = pd.merge(owid_df, df_ox_bl, on=['ISO', 'country_name','DATE'], how='outer')\n",
        "\n",
        "#Remove countries not in our list\n",
        "#df=df[df['country_name'].isin(countries)]\n",
        "#df.sort_values(by=['country_name','DATE'],inplace=True,ignore_index=True)\n",
        "#df.tail(10)\n"
      ],
      "execution_count": null,
      "outputs": []
    }
  ]
}
